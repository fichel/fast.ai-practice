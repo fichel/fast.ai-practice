{
 "cells": [
  {
   "cell_type": "markdown",
   "metadata": {},
   "source": [
    "# Fish Monitoring"
   ]
  },
  {
   "cell_type": "code",
   "execution_count": 1,
   "metadata": {
    "collapsed": false
   },
   "outputs": [
    {
     "name": "stderr",
     "output_type": "stream",
     "text": [
      "Using gpu device 0: Tesla K80 (CNMeM is disabled, cuDNN 5103)\n",
      "/home/ubuntu/anaconda2/lib/python2.7/site-packages/theano/sandbox/cuda/__init__.py:600: UserWarning: Your cuDNN version is more recent than the one Theano officially supports. If you see any problems, try updating Theano or downgrading cuDNN to version 5.\n",
      "  warnings.warn(warn)\n",
      "Using Theano backend.\n"
     ]
    }
   ],
   "source": [
    "%matplotlib inline\n",
    "import utils; reload(utils)\n",
    "from utils import *"
   ]
  },
  {
   "cell_type": "code",
   "execution_count": 5,
   "metadata": {
    "collapsed": true
   },
   "outputs": [],
   "source": [
    "# define references for home and data directories\n",
    "LESSON_HOME_DIR = os.getcwd()\n",
    "DATA_HOME_DIR = LESSON_HOME_DIR + '/data/fish-monitoring/'"
   ]
  },
  {
   "cell_type": "code",
   "execution_count": 10,
   "metadata": {
    "collapsed": false
   },
   "outputs": [],
   "source": [
    "path = DATA_HOME_DIR\n",
    "test_path = DATA_HOME_DIR + 'test_stg1/'"
   ]
  },
  {
   "cell_type": "code",
   "execution_count": 2,
   "metadata": {
    "collapsed": true
   },
   "outputs": [],
   "source": [
    "batch_size = 64"
   ]
  },
  {
   "cell_type": "markdown",
   "metadata": {},
   "source": [
    "**Action Plan:**\n",
    "\n",
    "1. Create validation set and sample\n",
    "2. Move to separate dirs for each set\n",
    "3. Finetune and train\n",
    "4. Generate Predictions\n",
    "5. Submit results to Kaggle"
   ]
  },
  {
   "cell_type": "markdown",
   "metadata": {},
   "source": [
    "## Create validation set and sample"
   ]
  },
  {
   "cell_type": "code",
   "execution_count": 93,
   "metadata": {
    "collapsed": true
   },
   "outputs": [],
   "source": [
    "from __future__ import division,print_function\n",
    "\n",
    "import os, json\n",
    "from glob import glob\n",
    "from shutil import copyfile\n",
    "from sklearn.metrics import log_loss\n",
    "import numpy as np\n",
    "import pandas as pd\n",
    "np.set_printoptions(precision=4, linewidth=100)\n",
    "from matplotlib import pyplot as plt"
   ]
  },
  {
   "cell_type": "code",
   "execution_count": 4,
   "metadata": {
    "collapsed": false
   },
   "outputs": [
    {
     "data": {
      "text/plain": [
       "u'/home/ubuntu/nbs'"
      ]
     },
     "execution_count": 4,
     "metadata": {},
     "output_type": "execute_result"
    }
   ],
   "source": [
    "# check present directory\n",
    "%pwd"
   ]
  },
  {
   "cell_type": "code",
   "execution_count": 6,
   "metadata": {
    "collapsed": false
   },
   "outputs": [
    {
     "name": "stdout",
     "output_type": "stream",
     "text": [
      "/home/ubuntu/nbs/data/fish-monitoring\n",
      "mkdir: cannot create directory ‘results’: File exists\n"
     ]
    }
   ],
   "source": [
    "# make root directories for train, test, valid and result\n",
    "%cd $DATA_HOME_DIR\n",
    "%mkdir valid\n",
    "%mkdir results\n",
    "%mkdir -p sample/train\n",
    "%mkdir -p sample/test\n",
    "%mkdir -p sample/results"
   ]
  },
  {
   "cell_type": "code",
   "execution_count": 7,
   "metadata": {
    "collapsed": false
   },
   "outputs": [
    {
     "name": "stdout",
     "output_type": "stream",
     "text": [
      "/home/ubuntu/nbs/data/fish-monitoring/train\n"
     ]
    }
   ],
   "source": [
    "%cd $DATA_HOME_DIR/train"
   ]
  },
  {
   "cell_type": "markdown",
   "metadata": {},
   "source": [
    "## Move to separate dirs for each set"
   ]
  },
  {
   "cell_type": "code",
   "execution_count": 8,
   "metadata": {
    "collapsed": false
   },
   "outputs": [],
   "source": [
    "# grab jpeg files from train class directories and move 20% to validation class directories\n",
    "for (dirpath, dirnames, filenames) in os.walk(os.getcwd()):\n",
    "    for dirname in dirnames:\n",
    "        \n",
    "        # grab all jpgs from directory\n",
    "        g = glob(dirname + '/*.jpg')\n",
    "        num_images = int(len(g)*0.2)\n",
    "        \n",
    "        # shuffle files\n",
    "        shuf = np.random.permutation(g)\n",
    "        \n",
    "        # move 20% of files from train to validation directory\n",
    "        for i in range(num_images):\n",
    "            old_path = DATA_HOME_DIR + 'train/'\n",
    "            valid_home = DATA_HOME_DIR + 'valid/'\n",
    "            new_path = valid_home + dirname + '/'\n",
    "            if not os.path.exists(new_path): \n",
    "                os.mkdir(new_path)\n",
    "            os.rename(shuf[i], valid_home + shuf[i])"
   ]
  },
  {
   "cell_type": "code",
   "execution_count": 9,
   "metadata": {
    "collapsed": false
   },
   "outputs": [],
   "source": [
    "# grab jpeg files from train class directories and copy 10% to sample class directories\n",
    "for (dirpath, dirnames, filenames) in os.walk(os.getcwd()):\n",
    "    for dirname in dirnames:\n",
    "        \n",
    "        # grab all jpgs from directory\n",
    "        g = glob(dirname + '/*.jpg')\n",
    "        num_images = int(len(g)*0.1)\n",
    "        \n",
    "        # shuffle files\n",
    "        shuf = np.random.permutation(g)\n",
    "        \n",
    "        # copy 10% of files from original directory to sample dir\n",
    "        for i in range(num_images):\n",
    "            old_path = DATA_HOME_DIR + 'train/'\n",
    "            sample_home = DATA_HOME_DIR + 'sample/train/'\n",
    "            new_path = sample_home + dirname + '/'\n",
    "            if not os.path.exists(new_path): \n",
    "                os.mkdir(new_path)\n",
    "            copyfile(shuf[i], sample_home + shuf[i])"
   ]
  },
  {
   "cell_type": "code",
   "execution_count": 10,
   "metadata": {
    "collapsed": true
   },
   "outputs": [],
   "source": [
    "# grab jpeg files from valid class directories and copy 10% to sample class directories\n",
    "for (dirpath, dirnames, filenames) in os.walk(os.getcwd()):\n",
    "    for dirname in dirnames:\n",
    "        \n",
    "        # grab all jpgs from directory\n",
    "        g = glob(dirname + '/*.jpg')\n",
    "        num_images = int(len(g)*0.1)\n",
    "        \n",
    "        # shuffle files\n",
    "        shuf = np.random.permutation(g)\n",
    "        \n",
    "        # copy 10% of files from original directory to sample dir\n",
    "        for i in range(num_images):\n",
    "            old_path = DATA_HOME_DIR + 'train/'\n",
    "            test_home = DATA_HOME_DIR + 'sample/test/'\n",
    "            new_path = test_home + dirname + '/'\n",
    "            if not os.path.exists(new_path): \n",
    "                os.mkdir(new_path)\n",
    "            copyfile(shuf[i], test_home + shuf[i])"
   ]
  },
  {
   "cell_type": "markdown",
   "metadata": {},
   "source": [
    "## Finetune and train"
   ]
  },
  {
   "cell_type": "code",
   "execution_count": 94,
   "metadata": {
    "collapsed": true
   },
   "outputs": [],
   "source": [
    "from vgg16 import Vgg16"
   ]
  },
  {
   "cell_type": "code",
   "execution_count": 95,
   "metadata": {
    "collapsed": false
   },
   "outputs": [],
   "source": [
    "vgg = Vgg16()"
   ]
  },
  {
   "cell_type": "code",
   "execution_count": 96,
   "metadata": {
    "collapsed": false
   },
   "outputs": [
    {
     "name": "stdout",
     "output_type": "stream",
     "text": [
      "Found 3025 images belonging to 8 classes.\n",
      "Found 752 images belonging to 8 classes.\n"
     ]
    }
   ],
   "source": [
    "batches = vgg.get_batches(path+'train', batch_size=batch_size)\n",
    "val_batches = vgg.get_batches(path+'valid', batch_size=batch_size)\n",
    "vgg.finetune(batches)"
   ]
  },
  {
   "cell_type": "code",
   "execution_count": 97,
   "metadata": {
    "collapsed": false
   },
   "outputs": [
    {
     "name": "stdout",
     "output_type": "stream",
     "text": [
      "Epoch 1/10\n",
      "3025/3025 [==============================] - 117s - loss: 2.1970 - acc: 0.4592 - val_loss: 0.9533 - val_acc: 0.6715\n",
      "Epoch 2/10\n",
      "3025/3025 [==============================] - 98s - loss: 1.4088 - acc: 0.5954 - val_loss: 0.8524 - val_acc: 0.7168\n",
      "Epoch 3/10\n",
      "3025/3025 [==============================] - 97s - loss: 1.1554 - acc: 0.6631 - val_loss: 0.6312 - val_acc: 0.8098\n",
      "Epoch 4/10\n",
      "3025/3025 [==============================] - 98s - loss: 0.9279 - acc: 0.7091 - val_loss: 0.5148 - val_acc: 0.8404\n",
      "Epoch 5/10\n",
      "3025/3025 [==============================] - 98s - loss: 0.8352 - acc: 0.7342 - val_loss: 0.4862 - val_acc: 0.8511\n",
      "Epoch 6/10\n",
      "3025/3025 [==============================] - 95s - loss: 0.7594 - acc: 0.7504 - val_loss: 0.4958 - val_acc: 0.8457\n",
      "Epoch 7/10\n",
      "3025/3025 [==============================] - 96s - loss: 0.6890 - acc: 0.7749 - val_loss: 0.4927 - val_acc: 0.8590\n",
      "Epoch 8/10\n",
      "3025/3025 [==============================] - 99s - loss: 0.6641 - acc: 0.7864 - val_loss: 0.4084 - val_acc: 0.8590\n",
      "Epoch 9/10\n",
      "3025/3025 [==============================] - 98s - loss: 0.6543 - acc: 0.7924 - val_loss: 0.4658 - val_acc: 0.8644\n",
      "Epoch 10/10\n",
      "3025/3025 [==============================] - 96s - loss: 0.5687 - acc: 0.8136 - val_loss: 0.4071 - val_acc: 0.8670\n"
     ]
    }
   ],
   "source": [
    "vgg.fit(batches, val_batches, nb_epoch=10)"
   ]
  },
  {
   "cell_type": "code",
   "execution_count": 98,
   "metadata": {
    "collapsed": false
   },
   "outputs": [],
   "source": [
    "#vgg.model.save_weights(path+'results/ft1.h5')\n",
    "#vgg.model.save_weights(path+'results/ft2.h5') #4 epochs, val_acc: 0.8351\n",
    "vgg.model.save_weights(path+'results/ft3.h5') #10 epochs, val_acc: 0.8351"
   ]
  },
  {
   "cell_type": "markdown",
   "metadata": {
    "collapsed": true
   },
   "source": [
    "## Generate Predictions"
   ]
  },
  {
   "cell_type": "code",
   "execution_count": 99,
   "metadata": {
    "collapsed": true
   },
   "outputs": [],
   "source": [
    "#load previous weights\n",
    "vgg.model.load_weights(path+'results/ft3.h5')"
   ]
  },
  {
   "cell_type": "code",
   "execution_count": 100,
   "metadata": {
    "collapsed": false
   },
   "outputs": [
    {
     "name": "stdout",
     "output_type": "stream",
     "text": [
      "Found 1000 images belonging to 1 classes.\n"
     ]
    }
   ],
   "source": [
    "batches, pred = vgg.test(path=test_path, batch_size=batch_size)"
   ]
  },
  {
   "cell_type": "code",
   "execution_count": 101,
   "metadata": {
    "collapsed": false
   },
   "outputs": [
    {
     "data": {
      "text/plain": [
       "array([[ 0.61406898498535156,  0.00695174979045987,  0.00061145419022068,  0.00006396313256118,\n",
       "         0.04437973350286484,  0.04894832521677017,  0.00002677444354049,  0.28494897484779358],\n",
       "       [ 0.09914875775575638,  0.00048282110947184,  0.00019609663286246,  0.00000006480980375,\n",
       "         0.00299828499555588,  0.54311037063598633,  0.02692178823053837,  0.32714182138442993],\n",
       "       [ 0.02267983928322792,  0.0000068579361141 ,  0.0000012685652564 ,  0.00000000141916345,\n",
       "         0.86604654788970947,  0.0006162611534819 ,  0.10809539258480072,  0.0025538713671267 ],\n",
       "       [ 0.29357615113258362,  0.00005596435221378,  0.00000098536008863,  0.00000001117241943,\n",
       "         0.00003259267032263,  0.04420936852693558,  0.02144675329327583,  0.6406782865524292 ],\n",
       "       [ 0.77352499961853027,  0.00004588506999426,  0.00267445854842663,  0.00000002269828592,\n",
       "         0.00539935892447829,  0.00001411127141182,  0.00005464505011332,  0.21828649938106537]], dtype=float32)"
      ]
     },
     "execution_count": 101,
     "metadata": {},
     "output_type": "execute_result"
    }
   ],
   "source": [
    "#preview the first 5 lines\n",
    "np.set_printoptions(suppress=True, precision=17)\n",
    "pred[:5,:]"
   ]
  },
  {
   "cell_type": "code",
   "execution_count": 102,
   "metadata": {
    "collapsed": true
   },
   "outputs": [],
   "source": [
    "#extract file names from test directory\n",
    "file_names = [x[8:] for x in batches.filenames]"
   ]
  },
  {
   "cell_type": "code",
   "execution_count": 103,
   "metadata": {
    "collapsed": false
   },
   "outputs": [
    {
     "data": {
      "text/html": [
       "<div>\n",
       "<table border=\"1\" class=\"dataframe\">\n",
       "  <thead>\n",
       "    <tr style=\"text-align: right;\">\n",
       "      <th></th>\n",
       "      <th>image</th>\n",
       "      <th>ALB</th>\n",
       "      <th>BET</th>\n",
       "      <th>DOL</th>\n",
       "      <th>LAG</th>\n",
       "      <th>NoF</th>\n",
       "      <th>OTHER</th>\n",
       "      <th>SHARK</th>\n",
       "      <th>YFT</th>\n",
       "    </tr>\n",
       "  </thead>\n",
       "  <tbody>\n",
       "    <tr>\n",
       "      <th>0</th>\n",
       "      <td>img_06237.jpg</td>\n",
       "      <td>0.614069</td>\n",
       "      <td>0.006952</td>\n",
       "      <td>6.114542e-04</td>\n",
       "      <td>6.396313e-05</td>\n",
       "      <td>0.044380</td>\n",
       "      <td>0.048948</td>\n",
       "      <td>0.000027</td>\n",
       "      <td>0.284949</td>\n",
       "    </tr>\n",
       "    <tr>\n",
       "      <th>1</th>\n",
       "      <td>img_06893.jpg</td>\n",
       "      <td>0.099149</td>\n",
       "      <td>0.000483</td>\n",
       "      <td>1.960966e-04</td>\n",
       "      <td>6.480980e-08</td>\n",
       "      <td>0.002998</td>\n",
       "      <td>0.543110</td>\n",
       "      <td>0.026922</td>\n",
       "      <td>0.327142</td>\n",
       "    </tr>\n",
       "    <tr>\n",
       "      <th>2</th>\n",
       "      <td>img_02082.jpg</td>\n",
       "      <td>0.022680</td>\n",
       "      <td>0.000007</td>\n",
       "      <td>1.268565e-06</td>\n",
       "      <td>1.419163e-09</td>\n",
       "      <td>0.866047</td>\n",
       "      <td>0.000616</td>\n",
       "      <td>0.108095</td>\n",
       "      <td>0.002554</td>\n",
       "    </tr>\n",
       "    <tr>\n",
       "      <th>3</th>\n",
       "      <td>img_06261.jpg</td>\n",
       "      <td>0.293576</td>\n",
       "      <td>0.000056</td>\n",
       "      <td>9.853601e-07</td>\n",
       "      <td>1.117242e-08</td>\n",
       "      <td>0.000033</td>\n",
       "      <td>0.044209</td>\n",
       "      <td>0.021447</td>\n",
       "      <td>0.640678</td>\n",
       "    </tr>\n",
       "    <tr>\n",
       "      <th>4</th>\n",
       "      <td>img_03628.jpg</td>\n",
       "      <td>0.773525</td>\n",
       "      <td>0.000046</td>\n",
       "      <td>2.674459e-03</td>\n",
       "      <td>2.269829e-08</td>\n",
       "      <td>0.005399</td>\n",
       "      <td>0.000014</td>\n",
       "      <td>0.000055</td>\n",
       "      <td>0.218286</td>\n",
       "    </tr>\n",
       "  </tbody>\n",
       "</table>\n",
       "</div>"
      ],
      "text/plain": [
       "           image       ALB       BET           DOL           LAG       NoF  \\\n",
       "0  img_06237.jpg  0.614069  0.006952  6.114542e-04  6.396313e-05  0.044380   \n",
       "1  img_06893.jpg  0.099149  0.000483  1.960966e-04  6.480980e-08  0.002998   \n",
       "2  img_02082.jpg  0.022680  0.000007  1.268565e-06  1.419163e-09  0.866047   \n",
       "3  img_06261.jpg  0.293576  0.000056  9.853601e-07  1.117242e-08  0.000033   \n",
       "4  img_03628.jpg  0.773525  0.000046  2.674459e-03  2.269829e-08  0.005399   \n",
       "\n",
       "      OTHER     SHARK       YFT  \n",
       "0  0.048948  0.000027  0.284949  \n",
       "1  0.543110  0.026922  0.327142  \n",
       "2  0.000616  0.108095  0.002554  \n",
       "3  0.044209  0.021447  0.640678  \n",
       "4  0.000014  0.000055  0.218286  "
      ]
     },
     "execution_count": 103,
     "metadata": {},
     "output_type": "execute_result"
    }
   ],
   "source": [
    "FISH_CLASSES = ['ALB','BET','DOL','LAG','NoF','OTHER','SHARK','YFT']\n",
    "submission = pd.DataFrame(pred, columns=FISH_CLASSES, index=None)\n",
    "submission.insert(0, 'image', file_names)\n",
    "submission.head()"
   ]
  },
  {
   "cell_type": "code",
   "execution_count": 104,
   "metadata": {
    "collapsed": false
   },
   "outputs": [
    {
     "name": "stdout",
     "output_type": "stream",
     "text": [
      "/home/ubuntu/nbs/data/fish-monitoring\n"
     ]
    }
   ],
   "source": [
    "#save file for submission\n",
    "%cd $DATA_HOME_DIR\n",
    "submission_file_name = 'submission3.csv'\n",
    "submission.to_csv(submission_file_name, index=False)"
   ]
  },
  {
   "cell_type": "code",
   "execution_count": 105,
   "metadata": {
    "collapsed": false
   },
   "outputs": [
    {
     "name": "stdout",
     "output_type": "stream",
     "text": [
      "/home/ubuntu/nbs\n"
     ]
    },
    {
     "data": {
      "text/html": [
       "<a href='data/fish-monitoring/submission3.csv' target='_blank'>data/fish-monitoring/submission3.csv</a><br>"
      ],
      "text/plain": [
       "/home/ubuntu/nbs/data/fish-monitoring/submission3.csv"
      ]
     },
     "execution_count": 105,
     "metadata": {},
     "output_type": "execute_result"
    }
   ],
   "source": [
    "from IPython.display import FileLink\n",
    "%cd $LESSON_HOME_DIR\n",
    "FileLink('data/fish-monitoring/' + submission_file_name)"
   ]
  },
  {
   "cell_type": "code",
   "execution_count": null,
   "metadata": {
    "collapsed": true
   },
   "outputs": [],
   "source": []
  }
 ],
 "metadata": {
  "anaconda-cloud": {},
  "kernelspec": {
   "display_name": "Python [conda root]",
   "language": "python",
   "name": "conda-root-py"
  },
  "language_info": {
   "codemirror_mode": {
    "name": "ipython",
    "version": 2
   },
   "file_extension": ".py",
   "mimetype": "text/x-python",
   "name": "python",
   "nbconvert_exporter": "python",
   "pygments_lexer": "ipython2",
   "version": "2.7.12"
  },
  "nav_menu": {},
  "nbpresent": {
   "slides": {
    "28b43202-5690-4169-9aca-6b9dabfeb3ec": {
     "id": "28b43202-5690-4169-9aca-6b9dabfeb3ec",
     "prev": null,
     "regions": {
      "3bba644a-cf4d-4a49-9fbd-e2554428cf9f": {
       "attrs": {
        "height": 0.8,
        "width": 0.8,
        "x": 0.1,
        "y": 0.1
       },
       "content": {
        "cell": "f3d3a388-7e2a-4151-9b50-c20498fceacc",
        "part": "whole"
       },
       "id": "3bba644a-cf4d-4a49-9fbd-e2554428cf9f"
      }
     }
    },
    "8104def2-4b68-44a0-8f1b-b03bf3b2a079": {
     "id": "8104def2-4b68-44a0-8f1b-b03bf3b2a079",
     "prev": "28b43202-5690-4169-9aca-6b9dabfeb3ec",
     "regions": {
      "7dded777-1ddf-4100-99ae-25cf1c15b575": {
       "attrs": {
        "height": 0.8,
        "width": 0.8,
        "x": 0.1,
        "y": 0.1
       },
       "content": {
        "cell": "fe47bd48-3414-4657-92e7-8b8d6cb0df00",
        "part": "whole"
       },
       "id": "7dded777-1ddf-4100-99ae-25cf1c15b575"
      }
     }
    }
   },
   "themes": {}
  },
  "toc": {
   "navigate_menu": true,
   "number_sections": true,
   "sideBar": true,
   "threshold": 6,
   "toc_cell": false,
   "toc_section_display": "block",
   "toc_window_display": false
  }
 },
 "nbformat": 4,
 "nbformat_minor": 0
}
